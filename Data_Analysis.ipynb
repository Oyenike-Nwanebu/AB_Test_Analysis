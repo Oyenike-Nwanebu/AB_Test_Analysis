{
 "cells": [
  {
   "cell_type": "code",
   "execution_count": 1,
   "id": "66c5e526-3694-4ce6-96e6-cb8f67af7e70",
   "metadata": {},
   "outputs": [],
   "source": [
    "#load libraries\n",
    "import pandas as pd\n",
    "import numpy as np\n",
    "import matplotlib.pyplot as plt\n",
    "import seaborn as sns\n",
    "\n",
    "# import package with hypothesis tests\n",
    "import scipy.stats as st\n",
    "from statsmodels.stats.weightstats import ztest as z_test\n",
    "from scipy.stats import norm"
   ]
  },
  {
   "cell_type": "code",
   "execution_count": 2,
   "id": "ad78bc55-5294-443b-9353-95c7a2709fb1",
   "metadata": {},
   "outputs": [
    {
     "data": {
      "text/html": [
       "<div>\n",
       "<style scoped>\n",
       "    .dataframe tbody tr th:only-of-type {\n",
       "        vertical-align: middle;\n",
       "    }\n",
       "\n",
       "    .dataframe tbody tr th {\n",
       "        vertical-align: top;\n",
       "    }\n",
       "\n",
       "    .dataframe thead th {\n",
       "        text-align: right;\n",
       "    }\n",
       "</style>\n",
       "<table border=\"1\" class=\"dataframe\">\n",
       "  <thead>\n",
       "    <tr style=\"text-align: right;\">\n",
       "      <th></th>\n",
       "      <th>sample_id</th>\n",
       "      <th>test_group</th>\n",
       "    </tr>\n",
       "  </thead>\n",
       "  <tbody>\n",
       "    <tr>\n",
       "      <th>0</th>\n",
       "      <td>1</td>\n",
       "      <td>0</td>\n",
       "    </tr>\n",
       "    <tr>\n",
       "      <th>1</th>\n",
       "      <td>2</td>\n",
       "      <td>1</td>\n",
       "    </tr>\n",
       "    <tr>\n",
       "      <th>2</th>\n",
       "      <td>3</td>\n",
       "      <td>0</td>\n",
       "    </tr>\n",
       "    <tr>\n",
       "      <th>3</th>\n",
       "      <td>4</td>\n",
       "      <td>1</td>\n",
       "    </tr>\n",
       "    <tr>\n",
       "      <th>4</th>\n",
       "      <td>5</td>\n",
       "      <td>1</td>\n",
       "    </tr>\n",
       "  </tbody>\n",
       "</table>\n",
       "</div>"
      ],
      "text/plain": [
       "   sample_id  test_group\n",
       "0          1           0\n",
       "1          2           1\n",
       "2          3           0\n",
       "3          4           1\n",
       "4          5           1"
      ]
     },
     "execution_count": 2,
     "metadata": {},
     "output_type": "execute_result"
    }
   ],
   "source": [
    "#load dataset\n",
    "user_df = pd.read_csv('Data/testSamples.csv')\n",
    "\n",
    "#check data\n",
    "user_df.head()"
   ]
  },
  {
   "cell_type": "code",
   "execution_count": 3,
   "id": "8b5c365e-c463-4ad3-aca9-d424abe00371",
   "metadata": {},
   "outputs": [
    {
     "data": {
      "text/plain": [
       "(59721, 2)"
      ]
     },
     "execution_count": 3,
     "metadata": {},
     "output_type": "execute_result"
    }
   ],
   "source": [
    "#check shape of user dataframe\n",
    "user_df.shape"
   ]
  },
  {
   "cell_type": "code",
   "execution_count": 4,
   "id": "82069d80-09c9-44a7-8581-5a9f90dce330",
   "metadata": {},
   "outputs": [
    {
     "data": {
      "text/html": [
       "<div>\n",
       "<style scoped>\n",
       "    .dataframe tbody tr th:only-of-type {\n",
       "        vertical-align: middle;\n",
       "    }\n",
       "\n",
       "    .dataframe tbody tr th {\n",
       "        vertical-align: top;\n",
       "    }\n",
       "\n",
       "    .dataframe thead th {\n",
       "        text-align: right;\n",
       "    }\n",
       "</style>\n",
       "<table border=\"1\" class=\"dataframe\">\n",
       "  <thead>\n",
       "    <tr style=\"text-align: right;\">\n",
       "      <th></th>\n",
       "      <th>sample_id</th>\n",
       "      <th>test_group</th>\n",
       "    </tr>\n",
       "  </thead>\n",
       "  <tbody>\n",
       "  </tbody>\n",
       "</table>\n",
       "</div>"
      ],
      "text/plain": [
       "Empty DataFrame\n",
       "Columns: [sample_id, test_group]\n",
       "Index: []"
      ]
     },
     "execution_count": 4,
     "metadata": {},
     "output_type": "execute_result"
    }
   ],
   "source": [
    "#check for duplicate samples (rows)\n",
    "user_df[user_df.duplicated(subset=['sample_id'],keep=False)]"
   ]
  },
  {
   "cell_type": "markdown",
   "id": "ac795f10-2f0a-4b63-8451-7b9a3a4d1496",
   "metadata": {},
   "source": [
    "#### There are no duplicate users in the dataset"
   ]
  },
  {
   "cell_type": "code",
   "execution_count": 5,
   "id": "6d40961d-d09f-43df-abd8-46e951f3d096",
   "metadata": {},
   "outputs": [
    {
     "name": "stdout",
     "output_type": "stream",
     "text": [
      "<class 'pandas.core.frame.DataFrame'>\n",
      "RangeIndex: 59721 entries, 0 to 59720\n",
      "Data columns (total 2 columns):\n",
      " #   Column      Non-Null Count  Dtype\n",
      "---  ------      --------------  -----\n",
      " 0   sample_id   59721 non-null  int64\n",
      " 1   test_group  59721 non-null  int64\n",
      "dtypes: int64(2)\n",
      "memory usage: 933.3 KB\n"
     ]
    }
   ],
   "source": [
    "#check dataframe info for missing values\n",
    "user_df.info()"
   ]
  },
  {
   "cell_type": "markdown",
   "id": "ef86dfee-91ab-4948-ae1e-8d0a0f68e3a4",
   "metadata": {},
   "source": [
    "## What is the approximate probability distribution between the test group and the control group?"
   ]
  },
  {
   "cell_type": "code",
   "execution_count": 6,
   "id": "4f83d4b1-0e8a-4164-b36e-e2007b6bbb2a",
   "metadata": {},
   "outputs": [
    {
     "data": {
      "text/plain": [
       "0    44886\n",
       "1    14835\n",
       "Name: test_group, dtype: int64"
      ]
     },
     "execution_count": 6,
     "metadata": {},
     "output_type": "execute_result"
    }
   ],
   "source": [
    "#check frequency of control group and test group\n",
    "user_df['test_group'].value_counts()"
   ]
  },
  {
   "cell_type": "code",
   "execution_count": 7,
   "id": "c409ee3c-682c-410e-b482-e4879976bd80",
   "metadata": {},
   "outputs": [
    {
     "name": "stdout",
     "output_type": "stream",
     "text": [
      "75.16% of users belong to control group\n",
      "24.84% of users belong to test group\n"
     ]
    }
   ],
   "source": [
    "#compute percentage of each test group\n",
    "percent_control = (user_df['test_group'].value_counts()[0]/user_df.shape[0]) * 100\n",
    "percent_test = (user_df['test_group'].value_counts()[1]/user_df.shape[0]) * 100\n",
    "\n",
    "print(f\"{round(percent_control,2)}% of users belong to control group\")\n",
    "print(f\"{round(percent_test, 2)}% of users belong to test group\")"
   ]
  },
  {
   "cell_type": "code",
   "execution_count": 8,
   "id": "2b7c6f76-3751-4812-a1dc-2500812e233c",
   "metadata": {},
   "outputs": [
    {
     "data": {
      "image/png": "[encoded data removed]",
      "text/plain": [
       "<Figure size 720x504 with 1 Axes>"
      ]
     },
     "metadata": {
      "needs_background": "light"
     },
     "output_type": "display_data"
    }
   ],
   "source": [
    "#Plot distribution of data in test group\n",
    "\n",
    "column_value_counts = user_df.groupby('test_group')['sample_id'].count()\n",
    "\n",
    "plt.figure(figsize=(10,7))\n",
    "plt.title(\"Probability Distribution of test group\")\n",
    "sns.barplot(x= column_value_counts.index, y=(column_value_counts.values/user_df.shape[0]))\n",
    "label = ['control', 'test']\n",
    "plt.xticks(column_value_counts.index, label, rotation='vertical')\n",
    "plt.xlabel(\"Sample group\")\n",
    "plt.ylabel('Probability')\n",
    "plt.show()"
   ]
  },
  {
   "cell_type": "code",
   "execution_count": 9,
   "id": "a2d16c0a-bcb1-414f-8c5c-4f7527889f40",
   "metadata": {},
   "outputs": [
    {
     "data": {
      "text/html": [
       "<div>\n",
       "<style scoped>\n",
       "    .dataframe tbody tr th:only-of-type {\n",
       "        vertical-align: middle;\n",
       "    }\n",
       "\n",
       "    .dataframe tbody tr th {\n",
       "        vertical-align: top;\n",
       "    }\n",
       "\n",
       "    .dataframe thead th {\n",
       "        text-align: right;\n",
       "    }\n",
       "</style>\n",
       "<table border=\"1\" class=\"dataframe\">\n",
       "  <thead>\n",
       "    <tr style=\"text-align: right;\">\n",
       "      <th></th>\n",
       "      <th>transaction_id</th>\n",
       "      <th>sample_id</th>\n",
       "      <th>transaction_type</th>\n",
       "      <th>transaction_amount</th>\n",
       "    </tr>\n",
       "  </thead>\n",
       "  <tbody>\n",
       "    <tr>\n",
       "      <th>0</th>\n",
       "      <td>52346326</td>\n",
       "      <td>11</td>\n",
       "      <td>REBILL</td>\n",
       "      <td>24.95</td>\n",
       "    </tr>\n",
       "    <tr>\n",
       "      <th>1</th>\n",
       "      <td>52346327</td>\n",
       "      <td>11</td>\n",
       "      <td>REBILL</td>\n",
       "      <td>24.95</td>\n",
       "    </tr>\n",
       "    <tr>\n",
       "      <th>2</th>\n",
       "      <td>52346328</td>\n",
       "      <td>32</td>\n",
       "      <td>REBILL</td>\n",
       "      <td>29.95</td>\n",
       "    </tr>\n",
       "    <tr>\n",
       "      <th>3</th>\n",
       "      <td>52346329</td>\n",
       "      <td>32</td>\n",
       "      <td>REBILL</td>\n",
       "      <td>29.95</td>\n",
       "    </tr>\n",
       "    <tr>\n",
       "      <th>4</th>\n",
       "      <td>52346330</td>\n",
       "      <td>32</td>\n",
       "      <td>REBILL</td>\n",
       "      <td>29.95</td>\n",
       "    </tr>\n",
       "  </tbody>\n",
       "</table>\n",
       "</div>"
      ],
      "text/plain": [
       "   transaction_id  sample_id transaction_type  transaction_amount\n",
       "0        52346326         11           REBILL               24.95\n",
       "1        52346327         11           REBILL               24.95\n",
       "2        52346328         32           REBILL               29.95\n",
       "3        52346329         32           REBILL               29.95\n",
       "4        52346330         32           REBILL               29.95"
      ]
     },
     "execution_count": 9,
     "metadata": {},
     "output_type": "execute_result"
    }
   ],
   "source": [
    "#load transaction dataset\n",
    "transaction_df = pd.read_csv('Data/transData.csv')\n",
    "\n",
    "#check data\n",
    "transaction_df.head()"
   ]
  },
  {
   "cell_type": "code",
   "execution_count": 10,
   "id": "42924de6-a5b3-4240-affa-38d9d95d2aa9",
   "metadata": {},
   "outputs": [
    {
     "data": {
      "text/plain": [
       "(7430, 4)"
      ]
     },
     "execution_count": 10,
     "metadata": {},
     "output_type": "execute_result"
    }
   ],
   "source": [
    "transaction_df.shape"
   ]
  },
  {
   "cell_type": "code",
   "execution_count": 11,
   "id": "138709d3-2c1f-4e17-b524-cd21610945b1",
   "metadata": {},
   "outputs": [
    {
     "data": {
      "text/html": [
       "<div>\n",
       "<style scoped>\n",
       "    .dataframe tbody tr th:only-of-type {\n",
       "        vertical-align: middle;\n",
       "    }\n",
       "\n",
       "    .dataframe tbody tr th {\n",
       "        vertical-align: top;\n",
       "    }\n",
       "\n",
       "    .dataframe thead th {\n",
       "        text-align: right;\n",
       "    }\n",
       "</style>\n",
       "<table border=\"1\" class=\"dataframe\">\n",
       "  <thead>\n",
       "    <tr style=\"text-align: right;\">\n",
       "      <th></th>\n",
       "      <th>transaction_id</th>\n",
       "      <th>sample_id</th>\n",
       "      <th>transaction_type</th>\n",
       "      <th>transaction_amount</th>\n",
       "    </tr>\n",
       "  </thead>\n",
       "  <tbody>\n",
       "  </tbody>\n",
       "</table>\n",
       "</div>"
      ],
      "text/plain": [
       "Empty DataFrame\n",
       "Columns: [transaction_id, sample_id, transaction_type, transaction_amount]\n",
       "Index: []"
      ]
     },
     "execution_count": 11,
     "metadata": {},
     "output_type": "execute_result"
    }
   ],
   "source": [
    "#check for duplicate transactions\n",
    "transaction_df[transaction_df.duplicated(subset=['transaction_id'],keep=False)]"
   ]
  },
  {
   "cell_type": "markdown",
   "id": "2cb74825-6b47-401f-8de6-8e6863675851",
   "metadata": {},
   "source": [
    "#### There are no duplicate transactions"
   ]
  },
  {
   "cell_type": "code",
   "execution_count": 12,
   "id": "8fe260a5-f4df-434f-8e6a-3cfa6583a987",
   "metadata": {},
   "outputs": [
    {
     "data": {
      "text/html": [
       "<div>\n",
       "<style scoped>\n",
       "    .dataframe tbody tr th:only-of-type {\n",
       "        vertical-align: middle;\n",
       "    }\n",
       "\n",
       "    .dataframe tbody tr th {\n",
       "        vertical-align: top;\n",
       "    }\n",
       "\n",
       "    .dataframe thead th {\n",
       "        text-align: right;\n",
       "    }\n",
       "</style>\n",
       "<table border=\"1\" class=\"dataframe\">\n",
       "  <thead>\n",
       "    <tr style=\"text-align: right;\">\n",
       "      <th></th>\n",
       "      <th>transaction_id</th>\n",
       "      <th>sample_id</th>\n",
       "      <th>transaction_type</th>\n",
       "      <th>transaction_amount</th>\n",
       "      <th>test_group</th>\n",
       "    </tr>\n",
       "  </thead>\n",
       "  <tbody>\n",
       "    <tr>\n",
       "      <th>0</th>\n",
       "      <td>52346326</td>\n",
       "      <td>11</td>\n",
       "      <td>REBILL</td>\n",
       "      <td>24.95</td>\n",
       "      <td>1</td>\n",
       "    </tr>\n",
       "    <tr>\n",
       "      <th>1</th>\n",
       "      <td>52346327</td>\n",
       "      <td>11</td>\n",
       "      <td>REBILL</td>\n",
       "      <td>24.95</td>\n",
       "      <td>1</td>\n",
       "    </tr>\n",
       "    <tr>\n",
       "      <th>2</th>\n",
       "      <td>52346328</td>\n",
       "      <td>32</td>\n",
       "      <td>REBILL</td>\n",
       "      <td>29.95</td>\n",
       "      <td>1</td>\n",
       "    </tr>\n",
       "    <tr>\n",
       "      <th>3</th>\n",
       "      <td>52346329</td>\n",
       "      <td>32</td>\n",
       "      <td>REBILL</td>\n",
       "      <td>29.95</td>\n",
       "      <td>1</td>\n",
       "    </tr>\n",
       "    <tr>\n",
       "      <th>4</th>\n",
       "      <td>52346330</td>\n",
       "      <td>32</td>\n",
       "      <td>REBILL</td>\n",
       "      <td>29.95</td>\n",
       "      <td>1</td>\n",
       "    </tr>\n",
       "  </tbody>\n",
       "</table>\n",
       "</div>"
      ],
      "text/plain": [
       "   transaction_id  sample_id transaction_type  transaction_amount  test_group\n",
       "0        52346326         11           REBILL               24.95           1\n",
       "1        52346327         11           REBILL               24.95           1\n",
       "2        52346328         32           REBILL               29.95           1\n",
       "3        52346329         32           REBILL               29.95           1\n",
       "4        52346330         32           REBILL               29.95           1"
      ]
     },
     "execution_count": 12,
     "metadata": {},
     "output_type": "execute_result"
    }
   ],
   "source": [
    "#merge datasets\n",
    "data = pd.merge(transaction_df, user_df, how = 'left', on='sample_id')\n",
    "\n",
    "#check\n",
    "data.head()"
   ]
  },
  {
   "cell_type": "code",
   "execution_count": 13,
   "id": "2d58c781-20c0-4838-a6ad-1e25c0e1a223",
   "metadata": {},
   "outputs": [
    {
     "name": "stdout",
     "output_type": "stream",
     "text": [
      "<class 'pandas.core.frame.DataFrame'>\n",
      "Int64Index: 7430 entries, 0 to 7429\n",
      "Data columns (total 5 columns):\n",
      " #   Column              Non-Null Count  Dtype  \n",
      "---  ------              --------------  -----  \n",
      " 0   transaction_id      7430 non-null   int64  \n",
      " 1   sample_id           7430 non-null   int64  \n",
      " 2   transaction_type    7430 non-null   object \n",
      " 3   transaction_amount  7430 non-null   float64\n",
      " 4   test_group          7430 non-null   int64  \n",
      "dtypes: float64(1), int64(3), object(1)\n",
      "memory usage: 348.3+ KB\n"
     ]
    }
   ],
   "source": [
    "#check data info\n",
    "data.info()"
   ]
  },
  {
   "cell_type": "code",
   "execution_count": 14,
   "id": "6900a755-eca6-4076-ae5c-7ad5294d7130",
   "metadata": {},
   "outputs": [
    {
     "data": {
      "text/plain": [
       "array(['REBILL', 'CHARGEBACK', 'REFUND'], dtype=object)"
      ]
     },
     "execution_count": 14,
     "metadata": {},
     "output_type": "execute_result"
    }
   ],
   "source": [
    "#check unique transaction types\n",
    "data['transaction_type'].unique()"
   ]
  },
  {
   "cell_type": "markdown",
   "id": "6b53fc83-fa82-405a-accb-ca39b0698408",
   "metadata": {},
   "source": [
    "## Is a user that must call-in to cancel more likely to generate more revenues?"
   ]
  },
  {
   "cell_type": "markdown",
   "id": "e17194c1-8692-4b30-ac60-9d19f02b6a07",
   "metadata": {},
   "source": [
    "#### Null hypothesis: A user that must call-in to cancel is less or equally likely to generate more revenue\n",
    "#### Alternative Hypothesis: A user that must call-in to cancel is more likely to generate more revenue"
   ]
  },
  {
   "cell_type": "code",
   "execution_count": 15,
   "id": "ecacceb3-ba0d-4b05-a4b9-d1c0c637e38f",
   "metadata": {},
   "outputs": [
    {
     "data": {
      "text/plain": [
       "test_group\n",
       "0    1079\n",
       "1    1635\n",
       "Name: sample_id, dtype: int64"
      ]
     },
     "execution_count": 15,
     "metadata": {},
     "output_type": "execute_result"
    }
   ],
   "source": [
    "#check frequency of control group and test group within transaction data\n",
    "data.groupby('test_group')['sample_id'].nunique()"
   ]
  },
  {
   "cell_type": "code",
   "execution_count": 16,
   "id": "4006a48e-5e30-46af-aba8-f3590940c5e5",
   "metadata": {},
   "outputs": [],
   "source": [
    "#get dataframe for all transactions belonging to control group\n",
    "control_df = data[data['test_group'] == 0]\n",
    "\n",
    "#get dataframe for all transactions belonging to test group\n",
    "test_df = data[data['test_group'] == 1]"
   ]
  },
  {
   "cell_type": "code",
   "execution_count": 17,
   "id": "849dd0d7-0407-41b6-9a67-5b4cfdc51e47",
   "metadata": {},
   "outputs": [
    {
     "name": "stdout",
     "output_type": "stream",
     "text": [
      "       transaction_id     sample_id  transaction_amount  test_group\n",
      "count    4.050000e+03   4050.000000         4050.000000      4050.0\n",
      "mean     5.234995e+07  29518.245679           22.182444         0.0\n",
      "std      2.144297e+03  17070.262738           14.355346         0.0\n",
      "min      5.234633e+07    103.000000          -32.950000         0.0\n",
      "25%      5.234809e+07  14927.750000           19.950000         0.0\n",
      "50%      5.234996e+07  30028.000000           24.950000         0.0\n",
      "75%      5.235175e+07  43932.250000           32.950000         0.0\n",
      "max      5.235375e+07  59689.000000           32.950000         0.0\n"
     ]
    },
    {
     "data": {
      "text/plain": [
       "<AxesSubplot:>"
      ]
     },
     "execution_count": 17,
     "metadata": {},
     "output_type": "execute_result"
    },
    {
     "data": {
      "image/png": "[encoded data removed]",
      "text/plain": [
       "<Figure size 432x288 with 1 Axes>"
      ]
     },
     "metadata": {
      "needs_background": "light"
     },
     "output_type": "display_data"
    }
   ],
   "source": [
    "#check the distribution of the data for each group\n",
    "print(control_df.describe())\n",
    "control_df['transaction_amount'].hist()"
   ]
  },
  {
   "cell_type": "code",
   "execution_count": 18,
   "id": "10e7465a-1c27-490d-a6df-6b3ec4044aa2",
   "metadata": {},
   "outputs": [
    {
     "name": "stdout",
     "output_type": "stream",
     "text": [
      "       transaction_id     sample_id  transaction_amount  test_group\n",
      "count    3.380000e+03   3380.000000         3380.000000      3380.0\n",
      "mean     5.235015e+07  31117.736391           28.234763         1.0\n",
      "std      2.141004e+03  17019.699891           15.202526         0.0\n",
      "min      5.234633e+07     11.000000          -39.950000         1.0\n",
      "25%      5.234828e+07  16537.000000           24.950000         1.0\n",
      "50%      5.235020e+07  31686.000000           29.950000         1.0\n",
      "75%      5.235203e+07  45913.750000           39.950000         1.0\n",
      "max      5.235376e+07  59694.000000           39.950000         1.0\n"
     ]
    },
    {
     "data": {
      "text/plain": [
       "<AxesSubplot:>"
      ]
     },
     "execution_count": 18,
     "metadata": {},
     "output_type": "execute_result"
    },
    {
     "data": {
      "image/png": "[encoded data removed]",
      "text/plain": [
       "<Figure size 432x288 with 1 Axes>"
      ]
     },
     "metadata": {
      "needs_background": "light"
     },
     "output_type": "display_data"
    }
   ],
   "source": [
    "print(test_df.describe())\n",
    "test_df['transaction_amount'].hist()"
   ]
  },
  {
   "cell_type": "code",
   "execution_count": 19,
   "id": "374e220f-f0b9-42b4-a5b4-258b40496d95",
   "metadata": {},
   "outputs": [],
   "source": [
    "#Since both samples (test groups) are unequal, use welch's test\n",
    "def welch_test(data1, data2):\n",
    "    '''This function takes 2 sample data, conducts welch test, returns the p-value \n",
    "    and decision to accept or reject null hypothesis'''\n",
    "    \n",
    "    ##Check variance of both test groups\n",
    "    if (np.var(data1) != np.var(data2)) and (len(data1) != len(data2)):\n",
    "        ttest, pval = (st.ttest_ind(data1, data2, equal_var = False))\n",
    "        print(f\"p_value = {pval}\")\n",
    "        \n",
    "    #decision for one-tailed \n",
    "        if pval/2 < 0.05 and ttest>0:\n",
    "            print(\"Reject null hypothesis.\")\n",
    "        else:\n",
    "            print(\"accept null hypothesis.\")\n",
    "            \n",
    "    else:\n",
    "        print(\"Welch's test cannot be used to compare these two samples\")"
   ]
  },
  {
   "cell_type": "code",
   "execution_count": 20,
   "id": "ee75cf04-2e9d-4c0f-b3a2-f0287284300d",
   "metadata": {},
   "outputs": [
    {
     "name": "stdout",
     "output_type": "stream",
     "text": [
      "p_value = 2.431541247013289e-67\n",
      "Reject null hypothesis.\n"
     ]
    }
   ],
   "source": [
    "##Null hypothesis: revenue from test_group <= revenue from control_group\n",
    "#call function to test hypothesis\n",
    "\n",
    "welch_test(test_df['transaction_amount'], control_df['transaction_amount'])"
   ]
  },
  {
   "cell_type": "markdown",
   "id": "dd68afc2-dca0-4bb2-aeed-30fd841d2a44",
   "metadata": {},
   "source": [
    "#### From the hypothesis test result, there is a 95% confidence level that users that must call-in to cancel will likely generate more revenue"
   ]
  },
  {
   "cell_type": "markdown",
   "id": "dba589e2-ca61-4569-b19e-ac62ace3512c",
   "metadata": {},
   "source": [
    "## Is a user that must call-in is more likely to produce a higher chargeback rate(CHARGEBACKs/REBILLs)?"
   ]
  },
  {
   "cell_type": "markdown",
   "id": "220264f8-52f6-41b4-8c21-bee05a17ec59",
   "metadata": {},
   "source": [
    "#### Null hypothesis: a user that must call-in is less or equally likely to produce a higher chargeback rate\n",
    "#### Alternative hypothesis: a user that must call-in is more likely to produce a higher chargeback rate"
   ]
  },
  {
   "cell_type": "code",
   "execution_count": 21,
   "id": "3b70a0ec-ca54-474d-b150-eec0a82c372a",
   "metadata": {},
   "outputs": [
    {
     "data": {
      "text/html": [
       "<div>\n",
       "<style scoped>\n",
       "    .dataframe tbody tr th:only-of-type {\n",
       "        vertical-align: middle;\n",
       "    }\n",
       "\n",
       "    .dataframe tbody tr th {\n",
       "        vertical-align: top;\n",
       "    }\n",
       "\n",
       "    .dataframe thead th {\n",
       "        text-align: right;\n",
       "    }\n",
       "</style>\n",
       "<table border=\"1\" class=\"dataframe\">\n",
       "  <thead>\n",
       "    <tr style=\"text-align: right;\">\n",
       "      <th></th>\n",
       "      <th>transaction_id</th>\n",
       "      <th>sample_id</th>\n",
       "      <th>transaction_type</th>\n",
       "      <th>transaction_amount</th>\n",
       "      <th>test_group</th>\n",
       "    </tr>\n",
       "  </thead>\n",
       "  <tbody>\n",
       "    <tr>\n",
       "      <th>85</th>\n",
       "      <td>52346411</td>\n",
       "      <td>957</td>\n",
       "      <td>REFUND</td>\n",
       "      <td>-24.95</td>\n",
       "      <td>0</td>\n",
       "    </tr>\n",
       "    <tr>\n",
       "      <th>86</th>\n",
       "      <td>52346412</td>\n",
       "      <td>957</td>\n",
       "      <td>REFUND</td>\n",
       "      <td>-24.95</td>\n",
       "      <td>0</td>\n",
       "    </tr>\n",
       "    <tr>\n",
       "      <th>120</th>\n",
       "      <td>52346446</td>\n",
       "      <td>1178</td>\n",
       "      <td>REFUND</td>\n",
       "      <td>-32.95</td>\n",
       "      <td>0</td>\n",
       "    </tr>\n",
       "    <tr>\n",
       "      <th>121</th>\n",
       "      <td>52346447</td>\n",
       "      <td>1178</td>\n",
       "      <td>REFUND</td>\n",
       "      <td>-32.95</td>\n",
       "      <td>0</td>\n",
       "    </tr>\n",
       "    <tr>\n",
       "      <th>170</th>\n",
       "      <td>52346496</td>\n",
       "      <td>2035</td>\n",
       "      <td>CHARGEBACK</td>\n",
       "      <td>-32.95</td>\n",
       "      <td>0</td>\n",
       "    </tr>\n",
       "  </tbody>\n",
       "</table>\n",
       "</div>"
      ],
      "text/plain": [
       "     transaction_id  sample_id transaction_type  transaction_amount  \\\n",
       "85         52346411        957           REFUND              -24.95   \n",
       "86         52346412        957           REFUND              -24.95   \n",
       "120        52346446       1178           REFUND              -32.95   \n",
       "121        52346447       1178           REFUND              -32.95   \n",
       "170        52346496       2035       CHARGEBACK              -32.95   \n",
       "\n",
       "     test_group  \n",
       "85            0  \n",
       "86            0  \n",
       "120           0  \n",
       "121           0  \n",
       "170           0  "
      ]
     },
     "execution_count": 21,
     "metadata": {},
     "output_type": "execute_result"
    }
   ],
   "source": [
    "#get dataframe for all chargeback transactions belonging to control group\n",
    "control_chargeback_df = data[(data['test_group'] == 0) & (data['transaction_type']!= 'REBILL')]\n",
    "\n",
    "#check\n",
    "control_chargeback_df.head()"
   ]
  },
  {
   "cell_type": "code",
   "execution_count": 22,
   "id": "1246d52d-a7d3-4c11-ba6b-bd4b850d7009",
   "metadata": {},
   "outputs": [
    {
     "data": {
      "text/plain": [
       "(294, 5)"
      ]
     },
     "execution_count": 22,
     "metadata": {},
     "output_type": "execute_result"
    }
   ],
   "source": [
    "control_chargeback_df.shape"
   ]
  },
  {
   "cell_type": "code",
   "execution_count": 23,
   "id": "ce360455-cc09-466b-940f-df1b33f03d62",
   "metadata": {},
   "outputs": [
    {
     "data": {
      "text/html": [
       "<div>\n",
       "<style scoped>\n",
       "    .dataframe tbody tr th:only-of-type {\n",
       "        vertical-align: middle;\n",
       "    }\n",
       "\n",
       "    .dataframe tbody tr th {\n",
       "        vertical-align: top;\n",
       "    }\n",
       "\n",
       "    .dataframe thead th {\n",
       "        text-align: right;\n",
       "    }\n",
       "</style>\n",
       "<table border=\"1\" class=\"dataframe\">\n",
       "  <thead>\n",
       "    <tr style=\"text-align: right;\">\n",
       "      <th></th>\n",
       "      <th>transaction_id</th>\n",
       "      <th>sample_id</th>\n",
       "      <th>transaction_type</th>\n",
       "      <th>transaction_amount</th>\n",
       "      <th>test_group</th>\n",
       "    </tr>\n",
       "  </thead>\n",
       "  <tbody>\n",
       "    <tr>\n",
       "      <th>32</th>\n",
       "      <td>52346358</td>\n",
       "      <td>296</td>\n",
       "      <td>CHARGEBACK</td>\n",
       "      <td>-29.95</td>\n",
       "      <td>1</td>\n",
       "    </tr>\n",
       "    <tr>\n",
       "      <th>137</th>\n",
       "      <td>52346463</td>\n",
       "      <td>1480</td>\n",
       "      <td>CHARGEBACK</td>\n",
       "      <td>-29.95</td>\n",
       "      <td>1</td>\n",
       "    </tr>\n",
       "    <tr>\n",
       "      <th>302</th>\n",
       "      <td>52346628</td>\n",
       "      <td>2880</td>\n",
       "      <td>REFUND</td>\n",
       "      <td>-39.95</td>\n",
       "      <td>1</td>\n",
       "    </tr>\n",
       "    <tr>\n",
       "      <th>303</th>\n",
       "      <td>52346629</td>\n",
       "      <td>2880</td>\n",
       "      <td>REFUND</td>\n",
       "      <td>-39.95</td>\n",
       "      <td>1</td>\n",
       "    </tr>\n",
       "    <tr>\n",
       "      <th>304</th>\n",
       "      <td>52346630</td>\n",
       "      <td>2880</td>\n",
       "      <td>REFUND</td>\n",
       "      <td>-39.95</td>\n",
       "      <td>1</td>\n",
       "    </tr>\n",
       "  </tbody>\n",
       "</table>\n",
       "</div>"
      ],
      "text/plain": [
       "     transaction_id  sample_id transaction_type  transaction_amount  \\\n",
       "32         52346358        296       CHARGEBACK              -29.95   \n",
       "137        52346463       1480       CHARGEBACK              -29.95   \n",
       "302        52346628       2880           REFUND              -39.95   \n",
       "303        52346629       2880           REFUND              -39.95   \n",
       "304        52346630       2880           REFUND              -39.95   \n",
       "\n",
       "     test_group  \n",
       "32            1  \n",
       "137           1  \n",
       "302           1  \n",
       "303           1  \n",
       "304           1  "
      ]
     },
     "execution_count": 23,
     "metadata": {},
     "output_type": "execute_result"
    }
   ],
   "source": [
    "#get dataframe for all chargeback transactions belonging to test group\n",
    "test_chargeback_df = data[(data['test_group'] == 1) & (data['transaction_type']!= 'REBILL')]\n",
    "\n",
    "#check\n",
    "test_chargeback_df.head()"
   ]
  },
  {
   "cell_type": "code",
   "execution_count": 24,
   "id": "bfdd792a-dbac-4e52-b0dd-700338d040c9",
   "metadata": {},
   "outputs": [
    {
     "name": "stdout",
     "output_type": "stream",
     "text": [
      "Chargeback rate for control group = 0.073\n",
      "Chargeback rate for test group = 0.052\n"
     ]
    }
   ],
   "source": [
    "#compute chargeback rate for control group = number of chargeback transactions/total transactions\n",
    "\n",
    "control_chargeback_rate = (control_chargeback_df.shape[0]/control_df.shape[0])\n",
    "print(f'Chargeback rate for control group = {round(control_chargeback_rate,3)}')\n",
    "\n",
    "#compute chargeback rate for test group\n",
    "test_chargeback_rate = (test_chargeback_df.shape[0]/test_df.shape[0])\n",
    "print(f'Chargeback rate for test group = {round(test_chargeback_rate,3)}')"
   ]
  },
  {
   "cell_type": "code",
   "execution_count": 25,
   "id": "425d7d1a-bd70-4f94-9f38-c992b1efcb1f",
   "metadata": {},
   "outputs": [
    {
     "name": "stdout",
     "output_type": "stream",
     "text": [
      "z-score is -3.730, with p-value 1.000\n"
     ]
    }
   ],
   "source": [
    "#Compute standard deviation\n",
    "std_control = np.sqrt(control_chargeback_rate * (1-control_chargeback_rate)/control_df.shape[0])\n",
    "std_test = np.sqrt(test_chargeback_rate * (1 - test_chargeback_rate)/test_df.shape[0])\n",
    "\n",
    "#compute z-score\n",
    "z_score = (test_chargeback_rate - control_chargeback_rate)/ np.sqrt(std_control**2 + std_test**2)\n",
    "print(f\"z-score is {z_score:0.3f}, with p-value {norm().sf(z_score):0.3f}\")"
   ]
  },
  {
   "cell_type": "code",
   "execution_count": 26,
   "id": "72f104ff-7765-4821-8739-35aa0938d33f",
   "metadata": {
    "tags": []
   },
   "outputs": [
    {
     "name": "stdout",
     "output_type": "stream",
     "text": [
      "Mann-Whitney U test for null hypothesis chargeback rate for test <= chargeback rate for control group is 1.000\n"
     ]
    }
   ],
   "source": [
    "#using Mann-Whitney U test\n",
    "from scipy.stats import mannwhitneyu\n",
    "stat, p_value = mannwhitneyu(control_chargeback_rate, test_chargeback_rate, alternative=\"less\")\n",
    "print(f\"Mann-Whitney U test for null hypothesis chargeback rate for test <= chargeback rate for control group is {p_value:0.3f}\")"
   ]
  },
  {
   "cell_type": "markdown",
   "id": "68c7ee36-4a39-4d30-818d-eba09ac4e26b",
   "metadata": {},
   "source": [
    "#### Since p-value > 0.05 (95% significance level), we accept the null hypothesis\n",
    "#### Thus, a user that must call-in is more less or equally likely to produce a higher chargeback rate"
   ]
  },
  {
   "cell_type": "markdown",
   "id": "67d3ec09-b21f-4886-ae2f-2091e4fe8781",
   "metadata": {},
   "source": [
    "## Is a user that must call-in to cancel more likely to generate at least 1 addition REBILL?"
   ]
  },
  {
   "cell_type": "markdown",
   "id": "35d3f004-fca6-4c9f-b507-8994209b2628",
   "metadata": {},
   "source": [
    "#### Null Hypothesis: User that must call-in to cancel is less or equally likely to generate at least 1 addition rebill\n",
    "#### Alternative Hypothesis: User that must call-in to cancel is more likely to generate at least 1 addition rebill"
   ]
  },
  {
   "cell_type": "code",
   "execution_count": 27,
   "id": "116bfc86-1d83-4e88-a583-fc61d765c5dd",
   "metadata": {},
   "outputs": [
    {
     "data": {
      "text/html": [
       "<div>\n",
       "<style scoped>\n",
       "    .dataframe tbody tr th:only-of-type {\n",
       "        vertical-align: middle;\n",
       "    }\n",
       "\n",
       "    .dataframe tbody tr th {\n",
       "        vertical-align: top;\n",
       "    }\n",
       "\n",
       "    .dataframe thead th {\n",
       "        text-align: right;\n",
       "    }\n",
       "</style>\n",
       "<table border=\"1\" class=\"dataframe\">\n",
       "  <thead>\n",
       "    <tr style=\"text-align: right;\">\n",
       "      <th></th>\n",
       "      <th>transaction_id</th>\n",
       "      <th>sample_id</th>\n",
       "      <th>transaction_type</th>\n",
       "      <th>transaction_amount</th>\n",
       "      <th>test_group</th>\n",
       "    </tr>\n",
       "  </thead>\n",
       "  <tbody>\n",
       "    <tr>\n",
       "      <th>6</th>\n",
       "      <td>52346332</td>\n",
       "      <td>103</td>\n",
       "      <td>REBILL</td>\n",
       "      <td>19.95</td>\n",
       "      <td>0</td>\n",
       "    </tr>\n",
       "    <tr>\n",
       "      <th>7</th>\n",
       "      <td>52346333</td>\n",
       "      <td>103</td>\n",
       "      <td>REBILL</td>\n",
       "      <td>19.95</td>\n",
       "      <td>0</td>\n",
       "    </tr>\n",
       "    <tr>\n",
       "      <th>8</th>\n",
       "      <td>52346334</td>\n",
       "      <td>103</td>\n",
       "      <td>REBILL</td>\n",
       "      <td>19.95</td>\n",
       "      <td>0</td>\n",
       "    </tr>\n",
       "    <tr>\n",
       "      <th>9</th>\n",
       "      <td>52346335</td>\n",
       "      <td>103</td>\n",
       "      <td>REBILL</td>\n",
       "      <td>19.95</td>\n",
       "      <td>0</td>\n",
       "    </tr>\n",
       "    <tr>\n",
       "      <th>10</th>\n",
       "      <td>52346336</td>\n",
       "      <td>103</td>\n",
       "      <td>REBILL</td>\n",
       "      <td>19.95</td>\n",
       "      <td>0</td>\n",
       "    </tr>\n",
       "  </tbody>\n",
       "</table>\n",
       "</div>"
      ],
      "text/plain": [
       "    transaction_id  sample_id transaction_type  transaction_amount  test_group\n",
       "6         52346332        103           REBILL               19.95           0\n",
       "7         52346333        103           REBILL               19.95           0\n",
       "8         52346334        103           REBILL               19.95           0\n",
       "9         52346335        103           REBILL               19.95           0\n",
       "10        52346336        103           REBILL               19.95           0"
      ]
     },
     "execution_count": 27,
     "metadata": {},
     "output_type": "execute_result"
    }
   ],
   "source": [
    "#get dataframe of all rebill transactions for control group\n",
    "control_rebill_df = data[(data['test_group'] == 0) & (data['transaction_type']== 'REBILL')]\n",
    "\n",
    "#check\n",
    "control_rebill_df.head()"
   ]
  },
  {
   "cell_type": "code",
   "execution_count": 28,
   "id": "6ce222ab-93a0-4318-88fb-a26b5e0d30d4",
   "metadata": {},
   "outputs": [
    {
     "data": {
      "text/html": [
       "<div>\n",
       "<style scoped>\n",
       "    .dataframe tbody tr th:only-of-type {\n",
       "        vertical-align: middle;\n",
       "    }\n",
       "\n",
       "    .dataframe tbody tr th {\n",
       "        vertical-align: top;\n",
       "    }\n",
       "\n",
       "    .dataframe thead th {\n",
       "        text-align: right;\n",
       "    }\n",
       "</style>\n",
       "<table border=\"1\" class=\"dataframe\">\n",
       "  <thead>\n",
       "    <tr style=\"text-align: right;\">\n",
       "      <th></th>\n",
       "      <th>transaction_id</th>\n",
       "      <th>sample_id</th>\n",
       "      <th>transaction_type</th>\n",
       "      <th>transaction_amount</th>\n",
       "      <th>test_group</th>\n",
       "    </tr>\n",
       "  </thead>\n",
       "  <tbody>\n",
       "    <tr>\n",
       "      <th>0</th>\n",
       "      <td>52346326</td>\n",
       "      <td>11</td>\n",
       "      <td>REBILL</td>\n",
       "      <td>24.95</td>\n",
       "      <td>1</td>\n",
       "    </tr>\n",
       "    <tr>\n",
       "      <th>1</th>\n",
       "      <td>52346327</td>\n",
       "      <td>11</td>\n",
       "      <td>REBILL</td>\n",
       "      <td>24.95</td>\n",
       "      <td>1</td>\n",
       "    </tr>\n",
       "    <tr>\n",
       "      <th>2</th>\n",
       "      <td>52346328</td>\n",
       "      <td>32</td>\n",
       "      <td>REBILL</td>\n",
       "      <td>29.95</td>\n",
       "      <td>1</td>\n",
       "    </tr>\n",
       "    <tr>\n",
       "      <th>3</th>\n",
       "      <td>52346329</td>\n",
       "      <td>32</td>\n",
       "      <td>REBILL</td>\n",
       "      <td>29.95</td>\n",
       "      <td>1</td>\n",
       "    </tr>\n",
       "    <tr>\n",
       "      <th>4</th>\n",
       "      <td>52346330</td>\n",
       "      <td>32</td>\n",
       "      <td>REBILL</td>\n",
       "      <td>29.95</td>\n",
       "      <td>1</td>\n",
       "    </tr>\n",
       "  </tbody>\n",
       "</table>\n",
       "</div>"
      ],
      "text/plain": [
       "   transaction_id  sample_id transaction_type  transaction_amount  test_group\n",
       "0        52346326         11           REBILL               24.95           1\n",
       "1        52346327         11           REBILL               24.95           1\n",
       "2        52346328         32           REBILL               29.95           1\n",
       "3        52346329         32           REBILL               29.95           1\n",
       "4        52346330         32           REBILL               29.95           1"
      ]
     },
     "execution_count": 28,
     "metadata": {},
     "output_type": "execute_result"
    }
   ],
   "source": [
    "#get dataframe of all rebill transactions for test group\n",
    "test_rebill_df = data[(data['test_group'] == 1) & (data['transaction_type']== 'REBILL')]\n",
    "\n",
    "#check\n",
    "test_rebill_df.head()"
   ]
  },
  {
   "cell_type": "code",
   "execution_count": 29,
   "id": "0558d566-82ce-4b43-b409-860684eac442",
   "metadata": {},
   "outputs": [],
   "source": [
    "#compute number of rebill transactions generated from control group\n",
    "num_control_rebill = control_rebill_df['transaction_type'].shape[0]\n",
    "\n",
    "#compute number of rebill transactions generated from test group\n",
    "num_test_rebill = test_rebill_df['transaction_type'].shape[0]"
   ]
  },
  {
   "cell_type": "code",
   "execution_count": 30,
   "id": "ea39b744-1418-4ec1-81eb-a43ef0c0786c",
   "metadata": {},
   "outputs": [
    {
     "data": {
      "text/plain": [
       "3205"
      ]
     },
     "execution_count": 30,
     "metadata": {},
     "output_type": "execute_result"
    }
   ],
   "source": [
    "#check number of rebill transactions generated by the test group\n",
    "num_test_rebill"
   ]
  },
  {
   "cell_type": "code",
   "execution_count": 31,
   "id": "6bb27acb-7434-4c96-9bfe-beb7b7bd3941",
   "metadata": {},
   "outputs": [
    {
     "data": {
      "text/plain": [
       "3756"
      ]
     },
     "execution_count": 31,
     "metadata": {},
     "output_type": "execute_result"
    }
   ],
   "source": [
    "#check number of rebill transactions generated by the control group\n",
    "num_control_rebill"
   ]
  },
  {
   "cell_type": "code",
   "execution_count": 32,
   "id": "4ba19ebf-6559-4a62-802c-8f7cab0dc939",
   "metadata": {},
   "outputs": [
    {
     "name": "stdout",
     "output_type": "stream",
     "text": [
      "Mann-Whitney U test for null hypothesis: less or equally likely to generate 1 addition rebill is 1.000\n"
     ]
    }
   ],
   "source": [
    "#using Mann-Whitney U test\n",
    "\n",
    "stat1, p_value1 = mannwhitneyu(num_control_rebill, num_test_rebill, alternative=\"less\")\n",
    "print(f\"Mann-Whitney U test for null hypothesis: less or equally likely to generate 1 addition rebill is {p_value1:0.3f}\")"
   ]
  },
  {
   "cell_type": "code",
   "execution_count": null,
   "id": "ab8f188d-607e-4c58-9c67-2a9b034f327a",
   "metadata": {},
   "outputs": [],
   "source": []
  }
 ],
 "metadata": {
  "kernelspec": {
   "display_name": "Python 3 (ipykernel)",
   "language": "python",
   "name": "python3"
  },
  "language_info": {
   "codemirror_mode": {
    "name": "ipython",
    "version": 3
   },
   "file_extension": ".py",
   "mimetype": "text/x-python",
   "name": "python",
   "nbconvert_exporter": "python",
   "pygments_lexer": "ipython3",
   "version": "3.9.13"
  }
 },
 "nbformat": 4,
 "nbformat_minor": 5
}
